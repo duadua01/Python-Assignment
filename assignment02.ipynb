{
 "cells": [
  {
   "cell_type": "code",
   "execution_count": 15,
   "metadata": {},
   "outputs": [
    {
     "name": "stdin",
     "output_type": "stream",
     "text": [
      "enter first number: 25\n",
      "enter second number: 25\n",
      "enter third number: 25\n",
      "enter fourth number: 35\n",
      "enter fifth number: 66\n"
     ]
    },
    {
     "name": "stdout",
     "output_type": "stream",
     "text": [
      "35.199999999999996\n",
      "fail\n"
     ]
    }
   ],
   "source": [
    "first=int(input(\"enter first number:\"))\n",
    "second=int(input(\"enter second number:\"))\n",
    "third=int(input(\"enter third number:\"))\n",
    "fourth=int(input(\"enter fourth number:\"))\n",
    "fifth=int(input(\"enter fifth number:\"))\n",
    "total=(int)(first+second+third+fourth+fifth) \n",
    "per=float(total/500*100)\n",
    "print(per)\n",
    "\n",
    "if(per>=90):\n",
    "    print(\"A+\")\n",
    "elif(per>=80):\n",
    "    print(\"A\")\n",
    "elif(per>=70):\n",
    "    print(\"B\")\n",
    "elif(per>=60):\n",
    "    print(\"C\")\n",
    "else:\n",
    "    print(\"fail\")\n"
   ]
  },
  {
   "cell_type": "code",
   "execution_count": 18,
   "metadata": {},
   "outputs": [
    {
     "name": "stdin",
     "output_type": "stream",
     "text": [
      "enter the number: 4\n"
     ]
    },
    {
     "name": "stdout",
     "output_type": "stream",
     "text": [
      "given number is even\n"
     ]
    }
   ],
   "source": [
    "x=int(input(\"enter the number:\"))\n",
    "if (x%2==0):\n",
    "    print(\"given number is even\")\n",
    "else:\n",
    "    print(\"given number is odd:\")\n"
   ]
  },
  {
   "cell_type": "code",
   "execution_count": 28,
   "metadata": {},
   "outputs": [
    {
     "name": "stdout",
     "output_type": "stream",
     "text": [
      "Number of items in the list= 5\n"
     ]
    }
   ],
   "source": [
    "list= [1,5,7,\"hafiza\",\"duaa\"];\n",
    "print(\"Number of items in the list=\", len(list))"
   ]
  },
  {
   "cell_type": "code",
   "execution_count": 29,
   "metadata": {},
   "outputs": [
    {
     "name": "stdout",
     "output_type": "stream",
     "text": [
      "150\n"
     ]
    }
   ],
   "source": [
    "list=[10,20,30,40,50]\n",
    "print(sum(list))"
   ]
  },
  {
   "cell_type": "code",
   "execution_count": 30,
   "metadata": {},
   "outputs": [
    {
     "name": "stdout",
     "output_type": "stream",
     "text": [
      "the largest number of the list is: 50\n"
     ]
    }
   ],
   "source": [
    "list=[10,20,30,40,50]\n",
    "print(\"the largest number of the list is:\",max(list))"
   ]
  },
  {
   "cell_type": "code",
   "execution_count": 34,
   "metadata": {},
   "outputs": [
    {
     "name": "stdout",
     "output_type": "stream",
     "text": [
      "1\n",
      "1\n",
      "2\n",
      "3\n"
     ]
    }
   ],
   "source": [
    "list=[1,1,2,3,5,8,13,21,34,55,89]\n",
    "x=len(list)\n",
    "for i in range (x):\n",
    "    if(list[i]<5):\n",
    "        print(list[i])\n"
   ]
  },
  {
   "cell_type": "code",
   "execution_count": null,
   "metadata": {},
   "outputs": [],
   "source": []
  }
 ],
 "metadata": {
  "kernelspec": {
   "display_name": "Python 3",
   "language": "python",
   "name": "python3"
  },
  "language_info": {
   "codemirror_mode": {
    "name": "ipython",
    "version": 3
   },
   "file_extension": ".py",
   "mimetype": "text/x-python",
   "name": "python",
   "nbconvert_exporter": "python",
   "pygments_lexer": "ipython3",
   "version": "3.7.4"
  }
 },
 "nbformat": 4,
 "nbformat_minor": 4
}
