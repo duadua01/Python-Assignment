{
 "cells": [
  {
   "cell_type": "code",
   "execution_count": 8,
   "metadata": {},
   "outputs": [
    {
     "name": "stdout",
     "output_type": "stream",
     "text": [
      "Twinkle, twinkle, little star,\n",
      "\tHow I wondwer what you are!\n",
      "\t\tUp above the world so high,\n",
      "\t\tLike a dimond in the sky.\n",
      "Twinkle, twinkle, little star,\n",
      "\tHow I wondwer what you are\n"
     ]
    }
   ],
   "source": [
    "  print(\"Twinkle, twinkle, little star,\\n\\tHow I wondwer what you are!\\n\\t\\tUp above the world so high,\\n\\t\\tLike a dimond in the sky.\\nTwinkle, twinkle, little star,\\n\\tHow I wondwer what you are\")"
   ]
  },
  {
   "cell_type": "code",
   "execution_count": 9,
   "metadata": {},
   "outputs": [
    {
     "name": "stdout",
     "output_type": "stream",
     "text": [
      "3.7.4\n"
     ]
    }
   ],
   "source": [
    "import platform\n",
    "print(platform.python_version())"
   ]
  },
  {
   "cell_type": "code",
   "execution_count": 10,
   "metadata": {},
   "outputs": [
    {
     "name": "stdin",
     "output_type": "stream",
     "text": [
      "enter first name: dua\n",
      "enter second name: iqbal\n"
     ]
    },
    {
     "name": "stdout",
     "output_type": "stream",
     "text": [
      "iqbal dua\n"
     ]
    }
   ],
   "source": [
    "first_name=input(\"enter first name:\")\n",
    "second_name=input(\"enter second name:\")\n",
    "print(second_name + \" \" + first_name)"
   ]
  },
  {
   "cell_type": "code",
   "execution_count": 18,
   "metadata": {},
   "outputs": [
    {
     "name": "stdin",
     "output_type": "stream",
     "text": [
      "enter first number: 6\n",
      "enter second number: 7\n"
     ]
    },
    {
     "name": "stdout",
     "output_type": "stream",
     "text": [
      "13\n"
     ]
    }
   ],
   "source": [
    "x=input(\"enter first number:\")\n",
    "y=input(\"enter second number:\")\n",
    "print(int(x)+int(y))"
   ]
  },
  {
   "cell_type": "code",
   "execution_count": 12,
   "metadata": {},
   "outputs": [
    {
     "name": "stdout",
     "output_type": "stream",
     "text": [
      "2019-11-01 13:33:40.949730\n"
     ]
    }
   ],
   "source": [
    "import datetime\n",
    "print(datetime.datetime.now())"
   ]
  },
  {
   "cell_type": "code",
   "execution_count": 17,
   "metadata": {},
   "outputs": [
    {
     "name": "stdin",
     "output_type": "stream",
     "text": [
      "enter radius of a circle: 5\n"
     ]
    },
    {
     "name": "stdout",
     "output_type": "stream",
     "text": [
      "78.5\n"
     ]
    }
   ],
   "source": [
    "pi=3.14\n",
    "radius=int(input(\"enter radius of a circle:\"))\n",
    "area= (pi*radius**2)\n",
    "print(area)"
   ]
  },
  {
   "cell_type": "code",
   "execution_count": null,
   "metadata": {},
   "outputs": [],
   "source": []
  }
 ],
 "metadata": {
  "kernelspec": {
   "display_name": "Python 3",
   "language": "python",
   "name": "python3"
  },
  "language_info": {
   "codemirror_mode": {
    "name": "ipython",
    "version": 3
   },
   "file_extension": ".py",
   "mimetype": "text/x-python",
   "name": "python",
   "nbconvert_exporter": "python",
   "pygments_lexer": "ipython3",
   "version": "3.7.4"
  }
 },
 "nbformat": 4,
 "nbformat_minor": 4
}
