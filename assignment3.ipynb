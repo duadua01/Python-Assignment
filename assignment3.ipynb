{
 "cells": [
  {
   "cell_type": "code",
   "execution_count": 1,
   "metadata": {},
   "outputs": [
    {
     "name": "stdin",
     "output_type": "stream",
     "text": [
      "enter the first num: 8\n",
      "enter the second num: 8\n",
      "enter the choice: 5\n"
     ]
    },
    {
     "name": "stdout",
     "output_type": "stream",
     "text": [
      "enter the correct choice:\n"
     ]
    }
   ],
   "source": [
    "a=int(input(\"enter the first num:\"))\n",
    "b=int(input(\"enter the second num:\"))\n",
    "op=input(\"enter the choice:\")\n",
    "if op==\"8\":\n",
    "    print(a*b)\n",
    "elif op==\"/\":\n",
    "    print(a/b)\n",
    "elif op==\"+\":\n",
    "    print(a+b)\n",
    "elif op==\"-\":\n",
    "    print(a-b)\n",
    "else:\n",
    "    print(\"enter the correct choice:\")\n"
   ]
  },
  {
   "cell_type": "code",
   "execution_count": 2,
   "metadata": {},
   "outputs": [
    {
     "name": "stdout",
     "output_type": "stream",
     "text": [
      "numeric value is found=1 at index=3\n"
     ]
    }
   ],
   "source": [
    "array=[\"dua\",\"python\",\"23\",1]\n",
    "for i in array:\n",
    "    if type(i)==int or type(i)==float:\n",
    "        print(f\"numeric value is found={i} at index={array.index(i)}\")"
   ]
  },
  {
   "cell_type": "code",
   "execution_count": 3,
   "metadata": {},
   "outputs": [
    {
     "name": "stdout",
     "output_type": "stream",
     "text": [
      "{'firstname': 'dua', 'lastnae': 'iqbal'}\n",
      "{'firstname': 'dua', 'lastnae': 'iqbal', 'hafiza': '09'}\n"
     ]
    }
   ],
   "source": [
    "dic={\"firstname\":\"dua\",\"lastnae\":\"iqbal\"}\n",
    "print(dic)\n",
    "dic.update({\"hafiza\":\"09\"})\n",
    "print(dic)"
   ]
  },
  {
   "cell_type": "code",
   "execution_count": 20,
   "metadata": {},
   "outputs": [
    {
     "name": "stdout",
     "output_type": "stream",
     "text": [
      "sum :: 53\n"
     ]
    }
   ],
   "source": [
    "def sumdic(dtio):\n",
    "    sum =0\n",
    "    for i in dtio.values():\n",
    "        sum=sum+i\n",
    "    return sum\n",
    "\n",
    "ndtio={0:1 , 1:16 , 2:27 , 3:9}\n",
    "print(\"sum ::\",sumdic(ndtio))"
   ]
  },
  {
   "cell_type": "code",
   "execution_count": 33,
   "metadata": {},
   "outputs": [
    {
     "name": "stdout",
     "output_type": "stream",
     "text": [
      "duplicate value is found  aaa\n",
      "duplicate value is found  1\n",
      "['hhh', 'aaa', 'abc', 'ccc', 1]\n"
     ]
    }
   ],
   "source": [
    "lst1 = [\"hhh\",\"aaa\", \"abc\",\"aaa\",\"ccc\",1,1]\n",
    "def dup(lst):\n",
    "    lst1dup =[]\n",
    "    for val in lst:\n",
    "        if val not in lst1dup:\n",
    "            lst1dup.append(val)\n",
    "        elif val in lst1dup:\n",
    "            print(\"duplicate value is found \",val)\n",
    "    return lst1dup   \n",
    "print(dup(lst1))"
   ]
  },
  {
   "cell_type": "code",
   "execution_count": 32,
   "metadata": {},
   "outputs": [
    {
     "name": "stdout",
     "output_type": "stream",
     "text": [
      "key is not present in the dictionary\n",
      "key is present in the dictionary\n"
     ]
    }
   ],
   "source": [
    "dic={\n",
    "    1:30,\n",
    "    2:50,\n",
    "    3:20,\n",
    "    4:50,\n",
    "    5:43}\n",
    "def is_key_present(x):\n",
    "    if x in dic:\n",
    "        print('key is present in the dictionary')\n",
    "    else:\n",
    "        print('key is not present in the dictionary')\n",
    "        \n",
    "is_key_present(6) \n",
    "is_key_present(2) "
   ]
  },
  {
   "cell_type": "code",
   "execution_count": null,
   "metadata": {},
   "outputs": [],
   "source": []
  }
 ],
 "metadata": {
  "kernelspec": {
   "display_name": "Python 3",
   "language": "python",
   "name": "python3"
  },
  "language_info": {
   "codemirror_mode": {
    "name": "ipython",
    "version": 3
   },
   "file_extension": ".py",
   "mimetype": "text/x-python",
   "name": "python",
   "nbconvert_exporter": "python",
   "pygments_lexer": "ipython3",
   "version": "3.7.4"
  }
 },
 "nbformat": 4,
 "nbformat_minor": 4
}
